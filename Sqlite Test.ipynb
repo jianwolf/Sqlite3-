{
 "cells": [
  {
   "cell_type": "markdown",
   "metadata": {},
   "source": [
    "### Sqlite Exercise"
   ]
  },
  {
   "cell_type": "code",
   "execution_count": 1,
   "metadata": {},
   "outputs": [],
   "source": [
    "import os\n",
    "import sqlite3"
   ]
  },
  {
   "cell_type": "code",
   "execution_count": 2,
   "metadata": {},
   "outputs": [],
   "source": [
    "os.chdir(\"D:/Code BNP\")"
   ]
  },
  {
   "cell_type": "code",
   "execution_count": 3,
   "metadata": {
    "scrolled": true
   },
   "outputs": [
    {
     "data": {
      "text/plain": [
       "'2.6.0'"
      ]
     },
     "execution_count": 3,
     "metadata": {},
     "output_type": "execute_result"
    }
   ],
   "source": [
    "sqlite3.version"
   ]
  },
  {
   "cell_type": "markdown",
   "metadata": {},
   "source": [
    "#### Connect to db"
   ]
  },
  {
   "cell_type": "code",
   "execution_count": 27,
   "metadata": {},
   "outputs": [
    {
     "name": "stdout",
     "output_type": "stream",
     "text": [
      "Database created and Successfully Connected to SQLite\n",
      "SQLite Database Version is:  [('3.31.1',)]\n",
      "The SQLite connection is closed\n"
     ]
    }
   ],
   "source": [
    "try:\n",
    "    sqliteConnection = sqlite3.connect('test.db')\n",
    "    cursor = sqliteConnection.cursor()\n",
    "    print(\"Database created and Successfully Connected to SQLite\")\n",
    "\n",
    "    sqlite_select_Query = \"select sqlite_version();\"\n",
    "    cursor.execute(sqlite_select_Query)\n",
    "    record = cursor.fetchall()\n",
    "    print(\"SQLite Database Version is: \", record)\n",
    "    cursor.close()\n",
    "\n",
    "except sqlite3.Error as error:\n",
    "    print(\"Error while connecting to sqlite\", error)\n",
    "finally:\n",
    "    if (sqliteConnection):\n",
    "        sqliteConnection.close()\n",
    "        print(\"The SQLite connection is closed\")"
   ]
  },
  {
   "cell_type": "markdown",
   "metadata": {},
   "source": [
    "#### Create table"
   ]
  },
  {
   "cell_type": "code",
   "execution_count": 30,
   "metadata": {},
   "outputs": [],
   "source": [
    "sql_script = \"\"\"\n",
    "\n",
    "create table  if not exists hardware (\n",
    " id INTEGER PRIMARY KEY,\n",
    " name TEXT NOT NULL,\n",
    " price REAL NOT NULL\n",
    ");\n",
    "\n",
    "create table if not exists software (\n",
    " id INTEGER PRIMARY KEY,\n",
    " name TEXT NOT NULL,\n",
    " price REAL NOT NULL\n",
    ");\n",
    "\n",
    "create table  if not exists SqliteDb_developers (\n",
    "                                id INTEGER PRIMARY KEY,\n",
    "                                name TEXT NOT NULL,\n",
    "                                email text NOT NULL UNIQUE,\n",
    "                                joining_date datetime,\n",
    "                                salary REAL NOT NULL);\n",
    "\n",
    "\"\"\""
   ]
  },
  {
   "cell_type": "code",
   "execution_count": 31,
   "metadata": {},
   "outputs": [
    {
     "name": "stdout",
     "output_type": "stream",
     "text": [
      "Successfully Connected to SQLite\n",
      "SQLite script executed successfully\n",
      "sqlite connection is closed\n"
     ]
    }
   ],
   "source": [
    "try:\n",
    "    sqliteConnection = sqlite3.connect('SQLite_Python.db')\n",
    "    cursor = sqliteConnection.cursor()\n",
    "    print(\"Successfully Connected to SQLite\")\n",
    "    cursor.executescript(sql_script)\n",
    "    print(\"SQLite script executed successfully\")\n",
    "    cursor.close()\n",
    "\n",
    "except sqlite3.Error as error:\n",
    "    print(\"Error while executing sqlite script\", error)\n",
    "finally:\n",
    "    if (sqliteConnection):\n",
    "        sqliteConnection.close()\n",
    "        print(\"sqlite connection is closed\")"
   ]
  },
  {
   "cell_type": "markdown",
   "metadata": {},
   "source": [
    "#### Insert data in SQLite using Python"
   ]
  },
  {
   "cell_type": "markdown",
   "metadata": {},
   "source": [
    ">Insert to SqliteDb_developers"
   ]
  },
  {
   "cell_type": "code",
   "execution_count": 32,
   "metadata": {},
   "outputs": [],
   "source": [
    "def insertVaribleIntoTable(id, name, email, joinDate, salary):\n",
    "    try:\n",
    "        sqliteConnection = sqlite3.connect('SQLite_Python.db')\n",
    "        cursor = sqliteConnection.cursor()\n",
    "        print(\"Connected to SQLite\")\n",
    "\n",
    "        sqlite_insert_with_param = \"\"\"INSERT INTO SqliteDb_developers\n",
    "                          (id, name, email, joining_date, salary) \n",
    "                          VALUES (?, ?, ?, ?, ?);\"\"\"\n",
    "\n",
    "        data_tuple = (id, name, email, joinDate, salary)\n",
    "        cursor.execute(sqlite_insert_with_param, data_tuple)\n",
    "        sqliteConnection.commit()\n",
    "        print(\"Python Variables inserted successfully into SqliteDb_developers table\")\n",
    "\n",
    "        cursor.close()\n",
    "\n",
    "    except sqlite3.Error as error:\n",
    "        print(\"Failed to insert Python variable into sqlite table\", error)\n",
    "    finally:\n",
    "        if (sqliteConnection):\n",
    "            sqliteConnection.close()\n",
    "            print(\"The SQLite connection is closed\")"
   ]
  },
  {
   "cell_type": "code",
   "execution_count": 33,
   "metadata": {},
   "outputs": [
    {
     "name": "stdout",
     "output_type": "stream",
     "text": [
      "Connected to SQLite\n",
      "Python Variables inserted successfully into SqliteDb_developers table\n",
      "The SQLite connection is closed\n",
      "Connected to SQLite\n",
      "Python Variables inserted successfully into SqliteDb_developers table\n",
      "The SQLite connection is closed\n",
      "Connected to SQLite\n",
      "Python Variables inserted successfully into SqliteDb_developers table\n",
      "The SQLite connection is closed\n"
     ]
    }
   ],
   "source": [
    "insertVaribleIntoTable(1,'James','james@pynative.com','2019-03-17',8000)\n",
    "insertVaribleIntoTable(2, 'Joe', 'joe@pynative.com', '2019-05-19', 9000)\n",
    "insertVaribleIntoTable(3, 'Ben', 'ben@pynative.com', '2019-02-23', 9500)"
   ]
  },
  {
   "cell_type": "code",
   "execution_count": 34,
   "metadata": {},
   "outputs": [],
   "source": [
    "def insertMultipleRecords(recordList):\n",
    "    try:\n",
    "        sqliteConnection = sqlite3.connect('SQLite_Python.db')\n",
    "        cursor = sqliteConnection.cursor()\n",
    "        print(\"Connected to SQLite\")\n",
    "\n",
    "        sqlite_insert_query = \"\"\"INSERT INTO SqliteDb_developers\n",
    "                          (id, name, email, joining_date, salary) \n",
    "                          VALUES (?, ?, ?, ?, ?);\"\"\"\n",
    "\n",
    "        cursor.executemany(sqlite_insert_query, recordList)\n",
    "        sqliteConnection.commit()\n",
    "        print(\"Total\", cursor.rowcount, \"Records inserted successfully into SqliteDb_developers table\")\n",
    "        sqliteConnection.commit()\n",
    "        cursor.close()\n",
    "\n",
    "    except sqlite3.Error as error:\n",
    "        print(\"Failed to insert multiple records into sqlite table\", error)\n",
    "    finally:\n",
    "        if (sqliteConnection):\n",
    "            sqliteConnection.close()\n",
    "            print(\"The SQLite connection is closed\")\n",
    "\n"
   ]
  },
  {
   "cell_type": "code",
   "execution_count": 35,
   "metadata": {},
   "outputs": [
    {
     "name": "stdout",
     "output_type": "stream",
     "text": [
      "Connected to SQLite\n",
      "Total 3 Records inserted successfully into SqliteDb_developers table\n",
      "The SQLite connection is closed\n"
     ]
    }
   ],
   "source": [
    "recordsToInsert = [(4, 'Jos', 'jos@gmail.com', '2019-01-14', 9500),\n",
    "                   (5, 'Chris', 'chris@gmail.com', '2019-05-15',7600),\n",
    "                   (6, 'Jonny', 'jonny@gmail.com', '2019-03-27', 8400)]\n",
    "\n",
    "insertMultipleRecords(recordsToInsert)"
   ]
  },
  {
   "cell_type": "markdown",
   "metadata": {},
   "source": [
    "#### Read Table"
   ]
  },
  {
   "cell_type": "code",
   "execution_count": 8,
   "metadata": {},
   "outputs": [],
   "source": [
    "import pandas as pd"
   ]
  },
  {
   "cell_type": "code",
   "execution_count": 13,
   "metadata": {},
   "outputs": [],
   "source": [
    "def readSqliteTable():\n",
    "    try:\n",
    "        sqliteConnection = sqlite3.connect('SQLite_Python.db')\n",
    "        cursor = sqliteConnection.cursor()\n",
    "        print(\"Connected to SQLite\")\n",
    "\n",
    "        sqlite_select_query = \"\"\"SELECT * from SqliteDb_developers\"\"\"\n",
    "        query = cursor.execute(sqlite_select_query)\n",
    "        records = cursor.fetchall()\n",
    "        print(\"Total rows are:  \", len(records))\n",
    "        cols = [column[0] for column in query.description]\n",
    "\n",
    "        for row in records:\n",
    "            print(row)\n",
    "#             print(\"Id: \", row[0])\n",
    "#             print(\"Name: \", row[1]) \n",
    "#             print(\"Email: \", row[2])\n",
    "#             print(\"JoiningDate: \", row[3])\n",
    "#             print(\"Salary: \", row[4])\n",
    "#             print(\"\\n\")\n",
    "\n",
    "        cursor.close()\n",
    "\n",
    "    except sqlite3.Error as error:\n",
    "        print(\"Failed to read data from sqlite table\", error)\n",
    "    finally:\n",
    "        if (sqliteConnection):\n",
    "            sqliteConnection.close()\n",
    "            print(\"The SQLite connection is closed\")\n",
    "            \n",
    "    results= pd.DataFrame.from_records(data = records, columns = cols)\n",
    "    return results"
   ]
  },
  {
   "cell_type": "code",
   "execution_count": 14,
   "metadata": {},
   "outputs": [
    {
     "name": "stdout",
     "output_type": "stream",
     "text": [
      "Connected to SQLite\n",
      "Total rows are:   5\n",
      "(1, 'James', 'attra@gmail.com', '2019-03-17', 8000.0)\n",
      "(2, 'Joe', 'joe@pynative.com', '2019-05-19', 9000.0)\n",
      "(3, 'Ben', 'ben_stokes@gmail.com', '2019-02-23', 6500.0)\n",
      "(4, 'Jos', 'jos@gmail.com', '2019-01-14', 9700.0)\n",
      "(6, 'Jonny', 'jonny@gmail.com', '2019-03-27', 8400.0)\n",
      "The SQLite connection is closed\n"
     ]
    },
    {
     "data": {
      "text/html": [
       "<div>\n",
       "<style scoped>\n",
       "    .dataframe tbody tr th:only-of-type {\n",
       "        vertical-align: middle;\n",
       "    }\n",
       "\n",
       "    .dataframe tbody tr th {\n",
       "        vertical-align: top;\n",
       "    }\n",
       "\n",
       "    .dataframe thead th {\n",
       "        text-align: right;\n",
       "    }\n",
       "</style>\n",
       "<table border=\"1\" class=\"dataframe\">\n",
       "  <thead>\n",
       "    <tr style=\"text-align: right;\">\n",
       "      <th></th>\n",
       "      <th>id</th>\n",
       "      <th>name</th>\n",
       "      <th>email</th>\n",
       "      <th>joining_date</th>\n",
       "      <th>salary</th>\n",
       "    </tr>\n",
       "  </thead>\n",
       "  <tbody>\n",
       "    <tr>\n",
       "      <th>0</th>\n",
       "      <td>1</td>\n",
       "      <td>James</td>\n",
       "      <td>attra@gmail.com</td>\n",
       "      <td>2019-03-17</td>\n",
       "      <td>8000.0</td>\n",
       "    </tr>\n",
       "    <tr>\n",
       "      <th>1</th>\n",
       "      <td>2</td>\n",
       "      <td>Joe</td>\n",
       "      <td>joe@pynative.com</td>\n",
       "      <td>2019-05-19</td>\n",
       "      <td>9000.0</td>\n",
       "    </tr>\n",
       "    <tr>\n",
       "      <th>2</th>\n",
       "      <td>3</td>\n",
       "      <td>Ben</td>\n",
       "      <td>ben_stokes@gmail.com</td>\n",
       "      <td>2019-02-23</td>\n",
       "      <td>6500.0</td>\n",
       "    </tr>\n",
       "    <tr>\n",
       "      <th>3</th>\n",
       "      <td>4</td>\n",
       "      <td>Jos</td>\n",
       "      <td>jos@gmail.com</td>\n",
       "      <td>2019-01-14</td>\n",
       "      <td>9700.0</td>\n",
       "    </tr>\n",
       "    <tr>\n",
       "      <th>4</th>\n",
       "      <td>6</td>\n",
       "      <td>Jonny</td>\n",
       "      <td>jonny@gmail.com</td>\n",
       "      <td>2019-03-27</td>\n",
       "      <td>8400.0</td>\n",
       "    </tr>\n",
       "  </tbody>\n",
       "</table>\n",
       "</div>"
      ],
      "text/plain": [
       "   id   name                 email joining_date  salary\n",
       "0   1  James       attra@gmail.com   2019-03-17  8000.0\n",
       "1   2    Joe      joe@pynative.com   2019-05-19  9000.0\n",
       "2   3    Ben  ben_stokes@gmail.com   2019-02-23  6500.0\n",
       "3   4    Jos         jos@gmail.com   2019-01-14  9700.0\n",
       "4   6  Jonny       jonny@gmail.com   2019-03-27  8400.0"
      ]
     },
     "execution_count": 14,
     "metadata": {},
     "output_type": "execute_result"
    }
   ],
   "source": [
    "readSqliteTable()"
   ]
  },
  {
   "cell_type": "code",
   "execution_count": 40,
   "metadata": {},
   "outputs": [],
   "source": [
    "def getDeveloperInfo(name):\n",
    "    try:\n",
    "        sqliteConnection = sqlite3.connect('SQLite_Python.db')\n",
    "        cursor = sqliteConnection.cursor()\n",
    "        print(\"Connected to SQLite\")\n",
    "\n",
    "        sql_select_query = \"\"\"select * from SqliteDb_developers where name = ?\"\"\"\n",
    "        cursor.execute(sql_select_query, (name,))\n",
    "        records = cursor.fetchall()\n",
    "#         print(\"Printing ID \", id)\n",
    "        for row in records:\n",
    "            print(\"Name = \", row[1])\n",
    "            print(\"Email  = \", row[2])\n",
    "            print(\"JoiningDate  = \", row[3])\n",
    "            print(\"Salary  = \", row[4])\n",
    "        cursor.close()\n",
    "\n",
    "    except sqlite3.Error as error:\n",
    "        print(\"Failed to read data from sqlite table\", error)\n",
    "    finally:\n",
    "        if (sqliteConnection):\n",
    "            sqliteConnection.close()\n",
    "            print(\"The SQLite connection is closed\")"
   ]
  },
  {
   "cell_type": "code",
   "execution_count": 41,
   "metadata": {},
   "outputs": [
    {
     "name": "stdout",
     "output_type": "stream",
     "text": [
      "Connected to SQLite\n",
      "Name =  Joe\n",
      "Email  =  joe@pynative.com\n",
      "JoiningDate  =  2019-05-19\n",
      "Salary  =  9000.0\n",
      "The SQLite connection is closed\n"
     ]
    }
   ],
   "source": [
    "getDeveloperInfo(\"Joe\")"
   ]
  },
  {
   "cell_type": "markdown",
   "metadata": {},
   "source": [
    "#### Select limited row"
   ]
  },
  {
   "cell_type": "code",
   "execution_count": 42,
   "metadata": {},
   "outputs": [],
   "source": [
    "def readLimitedRows(rowSize):\n",
    "    try:\n",
    "        sqliteConnection = sqlite3.connect('SQLite_Python.db')\n",
    "        cursor = sqliteConnection.cursor()\n",
    "        print(\"Connected to SQLite\")\n",
    "\n",
    "        sqlite_select_query = \"\"\"SELECT * from SqliteDb_developers\"\"\"\n",
    "        cursor.execute(sqlite_select_query)\n",
    "        print(\"Reading \", rowSize, \" rows\")\n",
    "        records = cursor.fetchmany(rowSize)\n",
    "        for row in records:\n",
    "            print(\"Id: \", row[0])\n",
    "            print(\"Name: \", row[1])\n",
    "            print(\"Email: \", row[2])\n",
    "            print(\"JoiningDate: \", row[3])\n",
    "            print(\"Salary: \", row[4])\n",
    "            print(\"\\n\")\n",
    "\n",
    "        cursor.close()\n",
    "\n",
    "    except sqlite3.Error as error:\n",
    "        print(\"Failed to read data from sqlite table\", error)\n",
    "    finally:\n",
    "        if (sqliteConnection):\n",
    "            sqliteConnection.close()\n",
    "            print(\"The SQLite connection is closed\")"
   ]
  },
  {
   "cell_type": "code",
   "execution_count": 43,
   "metadata": {
    "scrolled": true
   },
   "outputs": [
    {
     "name": "stdout",
     "output_type": "stream",
     "text": [
      "Connected to SQLite\n",
      "Reading  1  rows\n",
      "Printing each row \n",
      "\n",
      "Id:  1\n",
      "Name:  James\n",
      "Email:  james@pynative.com\n",
      "JoiningDate:  2019-03-17\n",
      "Salary:  8000.0\n",
      "\n",
      "\n",
      "The SQLite connection is closed\n"
     ]
    }
   ],
   "source": [
    "readLimitedRows(1)"
   ]
  },
  {
   "cell_type": "markdown",
   "metadata": {},
   "source": [
    "#### Select single row"
   ]
  },
  {
   "cell_type": "code",
   "execution_count": 44,
   "metadata": {},
   "outputs": [],
   "source": [
    "def readSingleRow(developerId):\n",
    "    try:\n",
    "        sqliteConnection = sqlite3.connect('SQLite_Python.db')\n",
    "        cursor = sqliteConnection.cursor()\n",
    "        print(\"Connected to SQLite\")\n",
    "\n",
    "        sqlite_select_query = \"\"\"SELECT * from SqliteDb_developers where id = ?\"\"\"\n",
    "        cursor.execute(sqlite_select_query, (developerId, ))\n",
    "        print(\"Reading single row \\n\")\n",
    "        record = cursor.fetchone()\n",
    "        print(\"Id: \", record[0])\n",
    "        print(\"Name: \", record[1])\n",
    "        print(\"Email: \", record[2])\n",
    "        print(\"JoiningDate: \", record[3])\n",
    "        print(\"Salary: \", record[4])\n",
    "\n",
    "        cursor.close()\n",
    "\n",
    "    except sqlite3.Error as error:\n",
    "        print(\"Failed to read single row from sqlite table\", error)\n",
    "    finally:\n",
    "        if (sqliteConnection):\n",
    "            sqliteConnection.close()\n",
    "            print(\"The SQLite connection is closed\")"
   ]
  },
  {
   "cell_type": "code",
   "execution_count": 45,
   "metadata": {},
   "outputs": [
    {
     "name": "stdout",
     "output_type": "stream",
     "text": [
      "Connected to SQLite\n",
      "Reading single row \n",
      "\n",
      "Id:  3\n",
      "Name:  Ben\n",
      "Email:  ben@pynative.com\n",
      "JoiningDate:  2019-02-23\n",
      "Salary:  9500.0\n",
      "The SQLite connection is closed\n"
     ]
    }
   ],
   "source": [
    "readSingleRow(3)"
   ]
  },
  {
   "cell_type": "markdown",
   "metadata": {},
   "source": [
    "#### Python Update SQLite Table\n"
   ]
  },
  {
   "cell_type": "code",
   "execution_count": 46,
   "metadata": {},
   "outputs": [],
   "source": [
    "def updateSqliteTable():\n",
    "    try:\n",
    "        sqliteConnection = sqlite3.connect('SQLite_Python.db')\n",
    "        cursor = sqliteConnection.cursor()\n",
    "        print(\"Connected to SQLite\")\n",
    "\n",
    "        sql_update_query = \"\"\"Update SqliteDb_developers set salary = 10000 where id = 4\"\"\"\n",
    "        cursor.execute(sql_update_query)\n",
    "        sqliteConnection.commit()\n",
    "        print(\"Record Updated successfully \")\n",
    "        cursor.close()\n",
    "\n",
    "    except sqlite3.Error as error:\n",
    "        print(\"Failed to update sqlite table\", error)\n",
    "    finally:\n",
    "        if (sqliteConnection):\n",
    "            sqliteConnection.close()\n",
    "            print(\"The SQLite connection is closed\")"
   ]
  },
  {
   "cell_type": "code",
   "execution_count": 47,
   "metadata": {},
   "outputs": [
    {
     "name": "stdout",
     "output_type": "stream",
     "text": [
      "Connected to SQLite\n",
      "Record Updated successfully \n",
      "The SQLite connection is closed\n"
     ]
    }
   ],
   "source": [
    "updateSqliteTable()"
   ]
  },
  {
   "cell_type": "markdown",
   "metadata": {},
   "source": [
    ">Using Python variables in SQLite UPDATE query\n"
   ]
  },
  {
   "cell_type": "code",
   "execution_count": 55,
   "metadata": {},
   "outputs": [],
   "source": [
    "def updateSqliteTable(update_col,update_value,filt_col,filt_value):\n",
    "    try:\n",
    "        sqliteConnection = sqlite3.connect('SQLite_Python.db')\n",
    "        cursor = sqliteConnection.cursor()\n",
    "        print(\"Connected to SQLite\")\n",
    "\n",
    "        sql_update_query = f\"\"\"Update SqliteDb_developers set {update_col} = ? where {filt_col} = ?\"\"\"\n",
    "        data = (update_value, filt_value)\n",
    "        cursor.execute(sql_update_query, data)\n",
    "        sqliteConnection.commit()\n",
    "        print(\"Record Updated successfully\")\n",
    "        cursor.close()\n",
    "\n",
    "    except sqlite3.Error as error:\n",
    "        print(\"Failed to update sqlite table\", error)\n",
    "    finally:\n",
    "        if (sqliteConnection):\n",
    "            sqliteConnection.close()\n",
    "            print(\"The sqlite connection is closed\")"
   ]
  },
  {
   "cell_type": "code",
   "execution_count": 57,
   "metadata": {},
   "outputs": [
    {
     "name": "stdout",
     "output_type": "stream",
     "text": [
      "Connected to SQLite\n",
      "Record Updated successfully\n",
      "The sqlite connection is closed\n"
     ]
    }
   ],
   "source": [
    "updateSqliteTable('salary',800,'id',4)"
   ]
  },
  {
   "cell_type": "code",
   "execution_count": 58,
   "metadata": {},
   "outputs": [
    {
     "name": "stdout",
     "output_type": "stream",
     "text": [
      "Connected to SQLite\n",
      "Record Updated successfully\n",
      "The sqlite connection is closed\n"
     ]
    }
   ],
   "source": [
    "updateSqliteTable('email',\"attra@gmail.com\",'id',1)"
   ]
  },
  {
   "cell_type": "code",
   "execution_count": 60,
   "metadata": {},
   "outputs": [],
   "source": [
    "def updateMultipleRecords(recordList):\n",
    "    try:\n",
    "        sqliteConnection = sqlite3.connect('SQLite_Python.db')\n",
    "        cursor = sqliteConnection.cursor()\n",
    "        print(\"Connected to SQLite\")\n",
    "\n",
    "        sqlite_update_query = \"\"\"Update SqliteDb_developers set salary = ? where id = ?\"\"\"\n",
    "        cursor.executemany(sqlite_update_query, recordList)\n",
    "        sqliteConnection.commit()\n",
    "        print(\"Total\", cursor.rowcount, \"Records updated successfully\")\n",
    "        sqliteConnection.commit()\n",
    "        cursor.close()\n",
    "\n",
    "    except sqlite3.Error as error:\n",
    "        print(\"Failed to update multiple records of sqlite table\", error)\n",
    "    finally:\n",
    "        if (sqliteConnection):\n",
    "            sqliteConnection.close()\n",
    "            print(\"The SQLite connection is closed\")\n",
    "\n",
    "records_to_update = [ (9700, 4), (7800, 5), (8400, 6) ]\n"
   ]
  },
  {
   "cell_type": "code",
   "execution_count": 61,
   "metadata": {},
   "outputs": [
    {
     "name": "stdout",
     "output_type": "stream",
     "text": [
      "Connected to SQLite\n",
      "Total 3 Records updated successfully\n",
      "The SQLite connection is closed\n"
     ]
    }
   ],
   "source": [
    "updateMultipleRecords(records_to_update)"
   ]
  },
  {
   "cell_type": "code",
   "execution_count": 64,
   "metadata": {},
   "outputs": [],
   "source": [
    "def updateMultipleColumns(id, salary, email):\n",
    "    try:\n",
    "        sqliteConnection = sqlite3.connect('SQLite_Python.db')\n",
    "        cursor = sqliteConnection.cursor()\n",
    "        print(\"Connected to SQLite\")\n",
    "\n",
    "        sqlite_update_query = \"\"\"Update SqliteDb_developers set salary = ?, email = ? where id = ?\"\"\"\n",
    "        columnValues = (salary, email, id)\n",
    "        cursor.execute(sqlite_update_query, columnValues)\n",
    "        sqliteConnection.commit()\n",
    "        print(\"Multiple columns updated successfully\")\n",
    "        sqliteConnection.commit()\n",
    "        cursor.close()\n",
    "\n",
    "    except sqlite3.Error as error:\n",
    "        print(\"Failed to update multiple columns of sqlite table\", error)\n",
    "    finally:\n",
    "        if (sqliteConnection):\n",
    "            sqliteConnection.close()\n",
    "            print(\"sqlite connection is closed\")"
   ]
  },
  {
   "cell_type": "code",
   "execution_count": 65,
   "metadata": {},
   "outputs": [
    {
     "name": "stdout",
     "output_type": "stream",
     "text": [
      "Connected to SQLite\n",
      "Multiple columns updated successfully\n",
      "sqlite connection is closed\n"
     ]
    }
   ],
   "source": [
    "updateMultipleColumns(3, 6500, 'ben_stokes@gmail.com')"
   ]
  },
  {
   "cell_type": "markdown",
   "metadata": {},
   "source": [
    "#### Python Delete from SQLite Table"
   ]
  },
  {
   "cell_type": "code",
   "execution_count": 66,
   "metadata": {},
   "outputs": [],
   "source": [
    "def deleteSqliteRecord(id):\n",
    "    try:\n",
    "        sqliteConnection = sqlite3.connect('SQLite_Python.db')\n",
    "        cursor = sqliteConnection.cursor()\n",
    "        print(\"Connected to SQLite\")\n",
    "\n",
    "        sql_update_query = \"\"\"DELETE from SqliteDb_developers where id = ?\"\"\"\n",
    "        cursor.execute(sql_update_query, (id, ))\n",
    "        sqliteConnection.commit()\n",
    "        print(\"Record deleted successfully\")\n",
    "\n",
    "        cursor.close()\n",
    "\n",
    "    except sqlite3.Error as error:\n",
    "        print(\"Failed to delete reocord from a sqlite table\", error)\n",
    "    finally:\n",
    "        if (sqliteConnection):\n",
    "            sqliteConnection.close()\n",
    "            print(\"sqlite connection is closed\")"
   ]
  },
  {
   "cell_type": "code",
   "execution_count": 67,
   "metadata": {},
   "outputs": [
    {
     "name": "stdout",
     "output_type": "stream",
     "text": [
      "Connected to SQLite\n",
      "Record deleted successfully\n",
      "sqlite connection is closed\n"
     ]
    }
   ],
   "source": [
    "deleteSqliteRecord(5)"
   ]
  },
  {
   "cell_type": "code",
   "execution_count": 69,
   "metadata": {},
   "outputs": [],
   "source": [
    "def deleteMultipleRecords(idList):\n",
    "    try:\n",
    "        sqliteConnection = sqlite3.connect('SQLite_Python.db')\n",
    "        cursor = sqliteConnection.cursor()\n",
    "        print(\"Connected to SQLite\")\n",
    "        sqlite_update_query = \"\"\"DELETE from SqliteDb_developers where id = ?\"\"\"\n",
    "\n",
    "        cursor.executemany(sqlite_update_query, idList)\n",
    "        sqliteConnection.commit()\n",
    "        print(\"Total\", cursor.rowcount, \"Records deleted successfully\")\n",
    "        sqliteConnection.commit()\n",
    "        cursor.close()\n",
    "\n",
    "    except sqlite3.Error as error:\n",
    "        print(\"Failed to delete multiple records from sqlite table\", error)\n",
    "    finally:\n",
    "        if (sqliteConnection):\n",
    "            sqliteConnection.close()\n",
    "            print(\"sqlite connection is closed\")\n",
    "\n",
    "idsToDelete = [(4,),(3,)]\n",
    "# deleteMultipleRecords(idsToDelete)"
   ]
  },
  {
   "cell_type": "markdown",
   "metadata": {},
   "source": [
    "#### Datetime"
   ]
  },
  {
   "cell_type": "code",
   "execution_count": 71,
   "metadata": {},
   "outputs": [],
   "source": [
    " from datetime import datetime"
   ]
  },
  {
   "cell_type": "code",
   "execution_count": 76,
   "metadata": {},
   "outputs": [
    {
     "data": {
      "text/plain": [
       "'09-12-2020'"
      ]
     },
     "execution_count": 76,
     "metadata": {},
     "output_type": "execute_result"
    }
   ],
   "source": [
    "today = datetime.now().strftime(\"%d-%m-%Y\")\n",
    "today"
   ]
  },
  {
   "cell_type": "code",
   "execution_count": 77,
   "metadata": {},
   "outputs": [],
   "source": [
    "def addDeveloper(id, name, joiningDate):\n",
    "    try:\n",
    "        sqliteConnection = sqlite3.connect('SQLite_Python.db')\n",
    "        cursor = sqliteConnection.cursor()\n",
    "        print(\"Connected to SQLite\")\n",
    "\n",
    "        sqlite_create_table_query = '''CREATE TABLE new_developers (\n",
    "                                       id INTEGER PRIMARY KEY,\n",
    "                                       name TEXT NOT NULL,\n",
    "                                       joiningDate timestamp);'''\n",
    "\n",
    "        cursor = sqliteConnection.cursor()\n",
    "        cursor.execute(sqlite_create_table_query)\n",
    "\n",
    "        # insert developer detail\n",
    "        sqlite_insert_with_param = \"\"\"INSERT INTO 'new_developers'\n",
    "                          ('id', 'name', 'joiningDate') \n",
    "                          VALUES (?, ?, ?);\"\"\"\n",
    "\n",
    "        data_tuple = (id, name, joiningDate)\n",
    "        cursor.execute(sqlite_insert_with_param, data_tuple)\n",
    "        sqliteConnection.commit()\n",
    "        print(\"Developer added successfully \\n\")\n",
    "\n",
    "        # get developer detail\n",
    "        sqlite_select_query = \"\"\"SELECT name, joiningDate from new_developers where id = ?\"\"\"\n",
    "        cursor.execute(sqlite_select_query, (1,))\n",
    "        records = cursor.fetchall()\n",
    "\n",
    "        for row in records:\n",
    "            developer= row[0]\n",
    "            joining_Date = row[1]\n",
    "            print(developer, \" joined on\", joiningDate)\n",
    "            print(\"joining date type is\", type(joining_Date))\n",
    "\n",
    "        cursor.close()\n",
    "\n",
    "    except sqlite3.Error as error:\n",
    "        print(\"Error while working with SQLite\", error)\n",
    "    finally:\n",
    "        if (sqliteConnection):\n",
    "            sqliteConnection.close()\n",
    "            print(\"sqlite connection is closed\")\n"
   ]
  },
  {
   "cell_type": "code",
   "execution_count": 78,
   "metadata": {},
   "outputs": [
    {
     "name": "stdout",
     "output_type": "stream",
     "text": [
      "Connected to SQLite\n",
      "Developer added successfully \n",
      "\n",
      "Mark  joined on 09-12-2020\n",
      "joining date type is <class 'str'>\n",
      "sqlite connection is closed\n"
     ]
    }
   ],
   "source": [
    "addDeveloper(1, 'Mark',today)\n"
   ]
  },
  {
   "cell_type": "code",
   "execution_count": null,
   "metadata": {},
   "outputs": [],
   "source": []
  }
 ],
 "metadata": {
  "kernelspec": {
   "display_name": "Python 3",
   "language": "python",
   "name": "python3"
  },
  "language_info": {
   "codemirror_mode": {
    "name": "ipython",
    "version": 3
   },
   "file_extension": ".py",
   "mimetype": "text/x-python",
   "name": "python",
   "nbconvert_exporter": "python",
   "pygments_lexer": "ipython3",
   "version": "3.7.6"
  }
 },
 "nbformat": 4,
 "nbformat_minor": 4
}
